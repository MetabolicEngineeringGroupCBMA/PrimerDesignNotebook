{
 "cells": [
  {
   "cell_type": "markdown",
   "metadata": {},
   "source": [
    "# Primer design for open reading frame cloned in pYPKa\n",
    "\n",
    "This notebook contains boilerplate code for the design of primers for an open reading frame to be cloned using the yeast pathway kit\n",
    "and expressed in S. cerevisiae."
   ]
  },
  {
   "cell_type": "code",
   "execution_count": 60,
   "metadata": {},
   "outputs": [],
   "source": [
    "from pydna.amplify import pcr\n",
    "from pydna.readers import read\n",
    "from pydna.design import primer_design\n",
    "\n",
    "from pydna.genbankrecord import GenbankRecord"
   ]
  },
  {
   "cell_type": "markdown",
   "metadata": {},
   "source": [
    "The open reading frame below is that of the [CTT1 gene](https://www.yeastgenome.org/locus/S000003320/sequence) from S. cerevisiae CEN.PK.\n",
    "\n",
    "Replace it with the gene for which you would like to design primers.\n",
    "\n",
    "Please use FASTA format and note that the sequence name will be used to name the new primers."
   ]
  },
  {
   "cell_type": "code",
   "execution_count": 61,
   "metadata": {},
   "outputs": [],
   "source": [
    "orf = read(\"\"\"\n",
    "\n",
    ">CTT1\n",
    "ATGAACGTGTTCGGTAAAAAAGAAGAAAAGCAAGAAAAAGTTTACTCTCTACAAAACGGTTTTCCGTACTCTCATCACCCATACGCTTCTCAATACTCAAGACCAGACGGCCCTATCTTACTGCAAGACTTCCATCTGCTGGAAAATATCGCAAGTTTCGATAGAGAAAGAGTTCCGGAGCGTGTAGTCCATGCCAAAGGTGGTGGTTGTAGACTGGAGTTCGAACTAACAGATTCTTTGAGTGATATTACATACGCCGCTCCATACCAGAATGTGGGTTACAAATGTCCTGGTCTTGTTCGTTTTTCCACCGTTGGTGGTGAAAGTGGTACACCAGACACTGCAAGAGACCCAAGAGGTGTTTCTTTTAAATTCTATACCGAGTGGGGGAACCATGACTGGGTCTTCAACAATACTCCCGTCTTCTTCCTCAGAGACGCTATTAAGTTTCCCGTATTTATTCATTCGCAAAAGAGAGACCCTCAGTCTCATCTGAATCAGTTTCAGGACACTACCATATACTGGGATTATCTAACATTGAATCCGGAATCAATCCATCAAATAACTTACATGTTTGGTGATAGAGGTACTCCTGCTTCGTGGGCTAGTATGAACGCGTACTCTGGTCATTCCTTCATCATGGTCAACAAAGAAGGTAAGGACACATATGTGCAATTCCACGTCTTGTCGGATACTGGTTTTGAAACCTTGACTGGAGATAAGGCTGCTGAACTGTCAGGCTCCCACCCTGATTATAATCAGGCAAAGCTGTTCACTCAATTGCAAAATGGCGAAAAGCCAAAATTTAACTGTTATGTGCAAACAATGACACCCGAACAAGCAACTAAGTTCAGGTATTCGGTAAATGACCTAACGAAAATATGGCCACACAAGGAATTCCCTTTGAGAAAATTTGGTACCATCACCCTAACGGAGAATGTTGACAATTATTTCCAAGAAATTGAACAAGTTGCATTCAGTCCAACGAACACTTGTATCCCAGGTATTAAGCCTTCTAATGATTCCGTTCTACAAGCCAGACTTTTCTCCTATCCAGACACTCAACGTCATAGATTGGGAGCCAACTATCAGCAATTGCCCGTCAACAGACCAAGAAACTTGGGATGTCCATACTCCAAAGGTGATTCCCAATACACTGCCGAACAGTGTCCATTTAAAGCAGTGAACTTCCAAAGGGACGGCCCAATGAGTTACTACAATTTCGGTCCTGAGCCAAATTATATTTCCAGTTTACCAAATCAAACTCTGAAATTCAAAAATGAAGACAACGACGAAGTATCTGATAAGTTCAAAGGGATAGTTCTTGACGAAGTAACAGAAGTTTCTGTGAGAAAACAGGAACAAGACCAAATCAGAAACGAGCATATTGTTGATGCCAAAATTAATCAATATTACTACGTTTATGGTATTAGTCCACTAGACTTCGAACAGCCAAGAGCTCTATATGAAAAGGTATACAACGATGAACAGAAGAAATTATTCGTTCATAACGTTGTTTGCCACGCTTGTAAGATCAAAGATCCTAAAGTCAAAAAGAGAGTTACGCAATACTTTGGTTTGCTAAACGAAGATTTGGGTAAAGTCATTGCAGAAGGCTTGGGAGTTCCTTGGGAACCTGTTGACCTTGAAGGTTATGCCAAGACTTGGTCCATTGCAAGTGCCAATTAA\n",
    "\n",
    "\"\"\")"
   ]
  },
  {
   "cell_type": "code",
   "execution_count": 62,
   "metadata": {},
   "outputs": [
    {
     "data": {
      "text/plain": [
       "'unRT3TWPEXorUhgOrGZRvwcsZwU'"
      ]
     },
     "execution_count": 62,
     "metadata": {},
     "output_type": "execute_result"
    }
   ],
   "source": [
    "orf.useguid()"
   ]
  },
  {
   "cell_type": "code",
   "execution_count": 63,
   "metadata": {},
   "outputs": [],
   "source": [
    "assert orf.useguid() == 'unRT3TWPEXorUhgOrGZRvwcsZwU'"
   ]
  },
  {
   "cell_type": "markdown",
   "metadata": {},
   "source": [
    "orf should be a linear Dseqrecord object."
   ]
  },
  {
   "cell_type": "code",
   "execution_count": 64,
   "metadata": {},
   "outputs": [],
   "source": [
    "assert orf.linear == True"
   ]
  },
  {
   "cell_type": "markdown",
   "metadata": {},
   "source": [
    "The isorf method confirmes that the object sequence is an open reading frame with a start and a stop codon."
   ]
  },
  {
   "cell_type": "code",
   "execution_count": 65,
   "metadata": {},
   "outputs": [],
   "source": [
    "assert orf.isorf()"
   ]
  },
  {
   "cell_type": "markdown",
   "metadata": {},
   "source": [
    "This notebook contain calls to BLAST and genbank. These can be slow, so joblib is used to cache the result."
   ]
  },
  {
   "cell_type": "code",
   "execution_count": 66,
   "metadata": {},
   "outputs": [],
   "source": [
    "import sys\n",
    "from joblib import Memory\n",
    "memory = Memory(location=f\"{sys.path[0]}/joblib_memory_cachedir\", verbose=0)"
   ]
  },
  {
   "cell_type": "code",
   "execution_count": 67,
   "metadata": {},
   "outputs": [],
   "source": [
    "@memory.cache\n",
    "def genbank_accession(s:str):\n",
    "    \n",
    "    from Bio.Blast import NCBIWWW\n",
    "    from Bio.Blast import NCBIXML\n",
    "\n",
    "    result_handle = NCBIWWW.qblast(\"blastn\",\n",
    "                                   \"nt\",\n",
    "                                    s,\n",
    "                                    hitlist_size=10,\n",
    "                                    alignments = 1,\n",
    "                                    expect=1e-8)\n",
    "\n",
    "    blast_records = NCBIXML.read(result_handle)\n",
    "    \n",
    "    result_handle.close()\n",
    "\n",
    "    results = []\n",
    "    length = len(s)\n",
    "\n",
    "    for alignment in blast_records.alignments:\n",
    "        \n",
    "        for hsp in alignment.hsps:\n",
    "            \n",
    "            if hsp.identities == length: # only **perfect** matches !\n",
    "                \n",
    "                results.append((alignment.accession, *sorted((hsp.sbjct_start, hsp.sbjct_end))))\n",
    "\n",
    "    return results"
   ]
  },
  {
   "cell_type": "code",
   "execution_count": 68,
   "metadata": {},
   "outputs": [],
   "source": [
    "hit, *rest_of_hits = genbank_accession(str(orf.seq))"
   ]
  },
  {
   "cell_type": "code",
   "execution_count": 69,
   "metadata": {},
   "outputs": [],
   "source": [
    "item, start, stop = hit"
   ]
  },
  {
   "cell_type": "code",
   "execution_count": 70,
   "metadata": {},
   "outputs": [],
   "source": [
    "orf = GenbankRecord(orf, item=item, start=start, stop=stop, strand=1)"
   ]
  },
  {
   "cell_type": "code",
   "execution_count": 72,
   "metadata": {},
   "outputs": [
    {
     "data": {
      "text/html": [
       "<a href='https://www.ncbi.nlm.nih.gov/nuccore/CP046087?from=678143&to=679831&strand=1' target='_blank'>CP046087 678143-679831</a>"
      ],
      "text/plain": [
       "Gbank(CP046087 678143-679831)(-1689)"
      ]
     },
     "execution_count": 72,
     "metadata": {},
     "output_type": "execute_result"
    }
   ],
   "source": [
    "orf"
   ]
  },
  {
   "cell_type": "code",
   "execution_count": 73,
   "metadata": {},
   "outputs": [
    {
     "data": {
      "text/html": [
       "<table>\n",
       "    <thead>\n",
       "        <tr>\n",
       "            <th>cds</th>\n",
       "            <th>len</th>\n",
       "            <th>cai</th>\n",
       "            <th>gc</th>\n",
       "            <th>sta</th>\n",
       "            <th>stp</th>\n",
       "            <th>n-end</th>\n",
       "            <th>CGA</th>\n",
       "            <th>CGG</th>\n",
       "            <th>CGC</th>\n",
       "            <th>CCG</th>\n",
       "            <th>CTC</th>\n",
       "            <th>GCG</th>\n",
       "            <th>rare</th>\n",
       "        </tr>\n",
       "    </thead>\n",
       "    <tbody>\n",
       "        <tr>\n",
       "            <td>ATG...TAA</td>\n",
       "            <td>563.0</td>\n",
       "            <td>0.767</td>\n",
       "            <td>0.413</td>\n",
       "            <td>1.0</td>\n",
       "            <td>0.47</td>\n",
       "            <td>3 min</td>\n",
       "            <td>0</td>\n",
       "            <td>0</td>\n",
       "            <td>0</td>\n",
       "            <td>3</td>\n",
       "            <td>1</td>\n",
       "            <td>1</td>\n",
       "            <td>0.009</td>\n",
       "        </tr>\n",
       "    </tbody>\n",
       "</table>"
      ],
      "text/markdown": [
       "|    cds    |  len  |  cai  |   gc  | sta | stp  | n-end | CGA | CGG | CGC | CCG | CTC | GCG |  rare |\n",
       "|:---------:|:-----:|:-----:|:-----:|:---:|:----:|:-----:|:---:|:---:|:---:|:---:|:---:|:---:|:-----:|\n",
       "| ATG...TAA | 563.0 | 0.767 | 0.413 | 1.0 | 0.47 | 3 min |  0  |  0  |  0  |  3  |  1  |  1  | 0.009 |"
      ],
      "text/plain": [
       "+-----------+-------+-------+-------+-----+------+-------+-----+-----+-----+-----+-----+-----+-------+\n",
       "|    cds    |  len  |  cai  |   gc  | sta | stp  | n-end | CGA | CGG | CGC | CCG | CTC | GCG |  rare |\n",
       "+-----------+-------+-------+-------+-----+------+-------+-----+-----+-----+-----+-----+-----+-------+\n",
       "| ATG...TAA | 563.0 | 0.767 | 0.413 | 1.0 | 0.47 | 3 min |  0  |  0  |  0  |  3  |  1  |  1  | 0.009 |\n",
       "+-----------+-------+-------+-------+-----+------+-------+-----+-----+-----+-----+-----+-----+-------+"
      ]
     },
     "execution_count": 73,
     "metadata": {},
     "output_type": "execute_result"
    }
   ],
   "source": [
    "orf.express()"
   ]
  },
  {
   "cell_type": "markdown",
   "metadata": {},
   "source": [
    "The express method gives tells us:\n",
    "\n",
    "- The codon adaptation index (cai)\n",
    "- Whether a preferred stop codon is used or not (stp) \n",
    "- That the first amino acid is stabilizing/destabilizing (n-end)\n"
   ]
  },
  {
   "cell_type": "markdown",
   "metadata": {
    "tags": []
   },
   "source": [
    "### Modifications\n",
    "\n",
    "Since the first aminoacid is destabilizing, a stabilizing glycine will be added to the n-terminal.\n",
    "Since this amino acid is small and uncharged, it is not likely to affect the enzyme."
   ]
  },
  {
   "cell_type": "markdown",
   "metadata": {
    "tags": []
   },
   "source": [
    "Primers amplifying from the second to the second last codons are designed:"
   ]
  },
  {
   "cell_type": "code",
   "execution_count": 74,
   "metadata": {},
   "outputs": [],
   "source": [
    "amplicon = primer_design(orf[3:])"
   ]
  },
  {
   "cell_type": "markdown",
   "metadata": {},
   "source": [
    "A tail is added to the forward primer containing an effective 9 bp kozak sequence, a start codon and the most common codon for glycine."
   ]
  },
  {
   "cell_type": "code",
   "execution_count": 75,
   "metadata": {},
   "outputs": [],
   "source": [
    "fp = \"tctgcaataATGGGT\" + amplicon.forward_primer"
   ]
  },
  {
   "cell_type": "markdown",
   "metadata": {},
   "source": [
    "A tail is added to the reverse primer containing the preferred stop codon."
   ]
  },
  {
   "cell_type": "code",
   "execution_count": 76,
   "metadata": {},
   "outputs": [],
   "source": [
    "rp = amplicon.reverse_primer"
   ]
  },
  {
   "cell_type": "code",
   "execution_count": 77,
   "metadata": {},
   "outputs": [],
   "source": [
    "fp.id = f\"{orf.name}f\"\n",
    "rp.id = f\"{orf.name}r\""
   ]
  },
  {
   "cell_type": "code",
   "execution_count": 78,
   "metadata": {},
   "outputs": [],
   "source": [
    "fp.description = rp.description = f\"{item} {start} {stop}\""
   ]
  },
  {
   "cell_type": "code",
   "execution_count": 79,
   "metadata": {},
   "outputs": [
    {
     "name": "stdout",
     "output_type": "stream",
     "text": [
      ">CTT1f CP046087 678143 679831\n",
      "tctgcaataATGGGTAACGTGTTCGGTAAAAAAG\n",
      "\n",
      ">CTT1r CP046087 678143 679831\n",
      "TTAATTGGCACTTGCAATG\n",
      "\n"
     ]
    }
   ],
   "source": [
    "for p in (fp, rp):\n",
    "    print(p.format(\"fasta\"))"
   ]
  },
  {
   "cell_type": "markdown",
   "metadata": {},
   "source": [
    "We perform a PCR with the newly constructed primers:"
   ]
  },
  {
   "cell_type": "code",
   "execution_count": 19,
   "metadata": {},
   "outputs": [],
   "source": [
    "product = pcr(fp, rp, orf)"
   ]
  },
  {
   "cell_type": "code",
   "execution_count": 20,
   "metadata": {},
   "outputs": [
    {
     "data": {
      "text/plain": [
       "               5AACGTGTTCGGTAAAAAAG...CATTGCAAGTGCCAATTAA3\n",
       "                                      |||||||||||||||||||\n",
       "                                     3GTAACGTTCACGGTTAATT5\n",
       "5tctgcaataATGGGTAACGTGTTCGGTAAAAAAG3\n",
       "                |||||||||||||||||||\n",
       "               3TTGCACAAGCCATTTTTTC...GTAACGTTCACGGTTAATT5"
      ]
     },
     "execution_count": 20,
     "metadata": {},
     "output_type": "execute_result"
    }
   ],
   "source": [
    "product.figure()"
   ]
  },
  {
   "cell_type": "code",
   "execution_count": 21,
   "metadata": {},
   "outputs": [
    {
     "data": {
      "text/plain": [
       "|95°C|95°C               |    |tmf:55.3\n",
       "|____|_____          72°C|72°C|tmr:55.8\n",
       "|3min|30s  \\ 55.2°C _____|____|45s/kb\n",
       "|    |      \\______/ 1:16|5min|GC 41%\n",
       "|    |       30s         |    |1701bp"
      ]
     },
     "execution_count": 21,
     "metadata": {},
     "output_type": "execute_result"
    }
   ],
   "source": [
    "product.program()"
   ]
  },
  {
   "cell_type": "code",
   "execution_count": 22,
   "metadata": {},
   "outputs": [
    {
     "name": "stdout",
     "output_type": "stream",
     "text": [
      "tctgcaataATGGGTAACGTGTTCGGTAAAAAAGAAGAAAAGCAAGAAAAAGTTTACTCTCTACAAAACGGTTTTCCGTACTCTCATCACCCATACGCTTCTCAATACTCAAGACCAGACGGCCCTATCTTACTGCAAGACTTCCATCTGCTGGAAAATATCGCAAGTTTCGATAGAGAAAGAGTTCCGGAGCGTGTAGTCCATGCCAAAGGTGGTGGTTGTAGACTGGAGTTCGAACTAACAGATTCTTTGAGTGATATTACATACGCCGCTCCATACCAGAATGTGGGTTACAAATGTCCTGGTCTTGTTCGTTTTTCCACCGTTGGTGGTGAAAGTGGTACACCAGACACTGCAAGAGACCCAAGAGGTGTTTCTTTTAAATTCTATACCGAGTGGGGGAACCATGACTGGGTCTTCAACAATACTCCCGTCTTCTTCCTCAGAGACGCTATTAAGTTTCCCGTATTTATTCATTCGCAAAAGAGAGACCCTCAGTCTCATCTGAATCAGTTTCAGGACACTACCATATACTGGGATTATCTAACATTGAATCCGGAATCAATCCATCAAATAACTTACATGTTTGGTGATAGAGGTACTCCTGCTTCGTGGGCTAGTATGAACGCGTACTCTGGTCATTCCTTCATCATGGTCAACAAAGAAGGTAAGGACACATATGTGCAATTCCACGTCTTGTCGGATACTGGTTTTGAAACCTTGACTGGAGATAAGGCTGCTGAACTGTCAGGCTCCCACCCTGATTATAATCAGGCAAAGCTGTTCACTCAATTGCAAAATGGCGAAAAGCCAAAATTTAACTGTTATGTGCAAACAATGACACCCGAACAAGCAACTAAGTTCAGGTATTCGGTAAATGACCTAACGAAAATATGGCCACACAAGGAATTCCCTTTGAGAAAATTTGGTACCATCACCCTAACGGAGAATGTTGACAATTATTTCCAAGAAATTGAACAAGTTGCATTCAGTCCAACGAACACTTGTATCCCAGGTATTAAGCCTTCTAATGATTCCGTTCTACAAGCCAGACTTTTCTCCTATCCAGACACTCAACGTCATAGATTGGGAGCCAACTATCAGCAATTGCCCGTCAACAGACCAAGAAACTTGGGATGTCCATACTCCAAAGGTGATTCCCAATACACTGCCGAACAGTGTCCATTTAAAGCAGTGAACTTCCAAAGGGACGGCCCAATGAGTTACTACAATTTCGGTCCTGAGCCAAATTATATTTCCAGTTTACCAAATCAAACTCTGAAATTCAAAAATGAAGACAACGACGAAGTATCTGATAAGTTCAAAGGGATAGTTCTTGACGAAGTAACAGAAGTTTCTGTGAGAAAACAGGAACAAGACCAAATCAGAAACGAGCATATTGTTGATGCCAAAATTAATCAATATTACTACGTTTATGGTATTAGTCCACTAGACTTCGAACAGCCAAGAGCTCTATATGAAAAGGTATACAACGATGAACAGAAGAAATTATTCGTTCATAACGTTGTTTGCCACGCTTGTAAGATCAAAGATCCTAAAGTCAAAAAGAGAGTTACGCAATACTTTGGTTTGCTAAACGAAGATTTGGGTAAAGTCATTGCAGAAGGCTTGGGAGTTCCTTGGGAACCTGTTGACCTTGAAGGTTATGCCAAGACTTGGTCCATTGCAAGTGCCAATTAA\n"
     ]
    }
   ],
   "source": [
    "print(product.seq)"
   ]
  },
  {
   "cell_type": "code",
   "execution_count": 23,
   "metadata": {},
   "outputs": [
    {
     "data": {
      "text/plain": [
       "(Dseqrecord(-1692),\n",
       " Dseqrecord(-1119),\n",
       " Dseqrecord(-306),\n",
       " Dseqrecord(-225),\n",
       " Dseqrecord(-108))"
      ]
     },
     "execution_count": 23,
     "metadata": {},
     "output_type": "execute_result"
    }
   ],
   "source": [
    "product.orfs()"
   ]
  },
  {
   "cell_type": "code",
   "execution_count": 24,
   "metadata": {},
   "outputs": [],
   "source": [
    "new_orf, *rest = product.orfs()"
   ]
  },
  {
   "cell_type": "code",
   "execution_count": 25,
   "metadata": {},
   "outputs": [
    {
     "data": {
      "text/plain": [
       "Dseqrecord(-1692)"
      ]
     },
     "execution_count": 25,
     "metadata": {},
     "output_type": "execute_result"
    }
   ],
   "source": [
    "new_orf"
   ]
  },
  {
   "cell_type": "markdown",
   "metadata": {},
   "source": [
    "The new protein is expected to be one amino acid longer."
   ]
  },
  {
   "cell_type": "code",
   "execution_count": 26,
   "metadata": {},
   "outputs": [],
   "source": [
    "assert len(orf.translate()) + 1 == len(new_orf.translate())"
   ]
  },
  {
   "cell_type": "markdown",
   "metadata": {},
   "source": [
    "To avoid errors, we BLAST the new protein sequence against the refseq_protein database."
   ]
  },
  {
   "cell_type": "code",
   "execution_count": 27,
   "metadata": {},
   "outputs": [],
   "source": [
    "@memory.cache\n",
    "def find_protein(s:str):\n",
    "    from Bio.Blast import NCBIWWW\n",
    "    from Bio.Blast import NCBIXML\n",
    "\n",
    "    result_handle = NCBIWWW.qblast(\"blastp\", \n",
    "                                   \"nr\", \n",
    "                                    s, \n",
    "                                    hitlist_size=10,\n",
    "                                    alignments=1, \n",
    "                                    expect=1e-8)\n",
    "\n",
    "    blast_records = NCBIXML.read(result_handle)\n",
    "    \n",
    "    result_handle.close()\n",
    "    \n",
    "    alignments = []\n",
    "    \n",
    "    for alignment in blast_records.alignments:\n",
    "        alignments.append(alignment)\n",
    "        \n",
    "    return alignments"
   ]
  },
  {
   "cell_type": "code",
   "execution_count": 28,
   "metadata": {},
   "outputs": [],
   "source": [
    "best_alignment, *rest_of_alignments = find_protein(str(new_orf.translate().seq))"
   ]
  },
  {
   "cell_type": "code",
   "execution_count": 29,
   "metadata": {},
   "outputs": [
    {
     "name": "stdout",
     "output_type": "stream",
     "text": [
      "EDV10159\n"
     ]
    }
   ],
   "source": [
    "print(best_alignment.accession)"
   ]
  },
  {
   "cell_type": "code",
   "execution_count": 30,
   "metadata": {},
   "outputs": [
    {
     "data": {
      "text/markdown": [
       "# [EDV10159](https://www.ncbi.nlm.nih.gov/protein/EDV10159)"
      ],
      "text/plain": [
       "<IPython.core.display.Markdown object>"
      ]
     },
     "metadata": {},
     "output_type": "display_data"
    }
   ],
   "source": [
    "from IPython.display import display, Markdown, display_markdown\n",
    "display(Markdown(f'# [{best_alignment.accession}](https://www.ncbi.nlm.nih.gov/protein/{best_alignment.accession})'))"
   ]
  },
  {
   "cell_type": "code",
   "execution_count": 31,
   "metadata": {},
   "outputs": [
    {
     "data": {
      "text/plain": [
       "'catalase T [Saccharomyces cerevisiae RM11-1a] >gb|EGA74918.1| Ctt1p [Saccharomyces cerevisiae AWRI796] >gb|QHB08734.1| Ctt1 [Saccharomyces cerevisiae]'"
      ]
     },
     "execution_count": 31,
     "metadata": {},
     "output_type": "execute_result"
    }
   ],
   "source": [
    "best_alignment.hit_def"
   ]
  },
  {
   "cell_type": "code",
   "execution_count": 32,
   "metadata": {},
   "outputs": [],
   "source": [
    "hsps = []\n",
    "for hsp in best_alignment.hsps:\n",
    "    hsps.append(hsp)\n",
    "best_hsp, *rest_of_hsps = hsps"
   ]
  },
  {
   "cell_type": "code",
   "execution_count": 33,
   "metadata": {},
   "outputs": [
    {
     "name": "stdout",
     "output_type": "stream",
     "text": [
      "NVFGKKEEKQEKVYSLQNGFPYSHHPYASQYSRPDGPILLQDFHLLENIASFDRERVPERVVHAKGGGCRLEFELTDSLSDITYAAPYQNVGYKCPGLVRFSTVGGESGTPDTARDPRGVSFKFYTEWGNHDWVFNNTPVFFLRDAIKFPVFIHSQKRDPQSHLNQFQDTTIYWDYLTLNPESIHQITYMFGDRGTPASWASMNAYSGHSFIMVNKEGKDTYVQFHVLSDTGFETLTGDKAAELSGSHPDYNQAKLFTQLQNGEKPKFNCYVQTMTPEQATKFRYSVNDLTKIWPHKEFPLRKFGTITLTENVDNYFQEIEQVAFSPTNTCIPGIKPSNDSVLQARLFSYPDTQRHRLGANYQQLPVNRPRNLGCPYSKGDSQYTAEQCPFKAVNFQRDGPMSYYNFGPEPNYISSLPNQTLKFKNEDNDEVSDKFKGIVLDEVTEVSVRKQEQDQIRNEHIVDAKINQYYYVYGISPLDFEQPRALYEKVYNDEQKKLFVHNVVCHACKIKDPKVKKRVTQYFGLLNEDLGKVIAEGLGVPWEPVDLEGYAKTWSIASAN\n"
     ]
    }
   ],
   "source": [
    "print(best_hsp.match)"
   ]
  },
  {
   "cell_type": "code",
   "execution_count": 34,
   "metadata": {},
   "outputs": [
    {
     "data": {
      "text/plain": [
       "True"
      ]
     },
     "execution_count": 34,
     "metadata": {},
     "output_type": "execute_result"
    }
   ],
   "source": [
    "best_hsp.match in orf.translate()"
   ]
  },
  {
   "cell_type": "markdown",
   "metadata": {},
   "source": [
    "### Pairwise alignment\n",
    "\n",
    "Aligning the two protein sequences confirms that "
   ]
  },
  {
   "cell_type": "code",
   "execution_count": 35,
   "metadata": {},
   "outputs": [],
   "source": [
    "from Bio import pairwise2\n",
    "from Bio.pairwise2 import format_alignment\n",
    "alignments = pairwise2.align.globalxx(best_hsp.match, orf.translate().seq)"
   ]
  },
  {
   "cell_type": "code",
   "execution_count": 36,
   "metadata": {
    "scrolled": true,
    "tags": []
   },
   "outputs": [
    {
     "name": "stdout",
     "output_type": "stream",
     "text": [
      "-NVFGKKEEKQEKVYSLQNGFPYSHHPYASQYSRPDGPILLQDFHLLENIASFDRERVPERVVHAKGGGCRLEFELTDSLSDITYAAPYQNVGYKCPGLVRFSTVGGESGTPDTARDPRGVSFKFYTEWGNHDWVFNNTPVFFLRDAIKFPVFIHSQKRDPQSHLNQFQDTTIYWDYLTLNPESIHQITYMFGDRGTPASWASMNAYSGHSFIMVNKEGKDTYVQFHVLSDTGFETLTGDKAAELSGSHPDYNQAKLFTQLQNGEKPKFNCYVQTMTPEQATKFRYSVNDLTKIWPHKEFPLRKFGTITLTENVDNYFQEIEQVAFSPTNTCIPGIKPSNDSVLQARLFSYPDTQRHRLGANYQQLPVNRPRNLGCPYSKGDSQYTAEQCPFKAVNFQRDGPMSYYNFGPEPNYISSLPNQTLKFKNEDNDEVSDKFKGIVLDEVTEVSVRKQEQDQIRNEHIVDAKINQYYYVYGISPLDFEQPRALYEKVYNDEQKKLFVHNVVCHACKIKDPKVKKRVTQYFGLLNEDLGKVIAEGLGVPWEPVDLEGYAKTWSIASAN-\n",
      " ||||||||||||||||||||||||||||||||||||||||||||||||||||||||||||||||||||||||||||||||||||||||||||||||||||||||||||||||||||||||||||||||||||||||||||||||||||||||||||||||||||||||||||||||||||||||||||||||||||||||||||||||||||||||||||||||||||||||||||||||||||||||||||||||||||||||||||||||||||||||||||||||||||||||||||||||||||||||||||||||||||||||||||||||||||||||||||||||||||||||||||||||||||||||||||||||||||||||||||||||||||||||||||||||||||||||||||||||||||||||||||||||||||||||||||||||||||||||||||||||||||||||||||||||||||||||||||||||||||||||||||||||||||||||||||||||||||||||||||||||| \n",
      "MNVFGKKEEKQEKVYSLQNGFPYSHHPYASQYSRPDGPILLQDFHLLENIASFDRERVPERVVHAKGGGCRLEFELTDSLSDITYAAPYQNVGYKCPGLVRFSTVGGESGTPDTARDPRGVSFKFYTEWGNHDWVFNNTPVFFLRDAIKFPVFIHSQKRDPQSHLNQFQDTTIYWDYLTLNPESIHQITYMFGDRGTPASWASMNAYSGHSFIMVNKEGKDTYVQFHVLSDTGFETLTGDKAAELSGSHPDYNQAKLFTQLQNGEKPKFNCYVQTMTPEQATKFRYSVNDLTKIWPHKEFPLRKFGTITLTENVDNYFQEIEQVAFSPTNTCIPGIKPSNDSVLQARLFSYPDTQRHRLGANYQQLPVNRPRNLGCPYSKGDSQYTAEQCPFKAVNFQRDGPMSYYNFGPEPNYISSLPNQTLKFKNEDNDEVSDKFKGIVLDEVTEVSVRKQEQDQIRNEHIVDAKINQYYYVYGISPLDFEQPRALYEKVYNDEQKKLFVHNVVCHACKIKDPKVKKRVTQYFGLLNEDLGKVIAEGLGVPWEPVDLEGYAKTWSIASAN*\n",
      "  Score=561\n",
      "\n"
     ]
    }
   ],
   "source": [
    "print(format_alignment(*alignments[0]))"
   ]
  },
  {
   "cell_type": "code",
   "execution_count": 40,
   "metadata": {},
   "outputs": [
    {
     "name": "stdout",
     "output_type": "stream",
     "text": [
      ">CTT1f CP046087 678143 679831\n",
      "tctgcaataATGGGTAACGTGTTCGGTAAAAAAG\n",
      "\n",
      ">CTT1r CP046087 678143 679831\n",
      "TTAATTGGCACTTGCAATG\n",
      "\n"
     ]
    }
   ],
   "source": [
    "for p in (fp, rp):\n",
    "    print(p.format(\"fasta\"))"
   ]
  }
 ],
 "metadata": {
  "anaconda-cloud": {},
  "kernelspec": {
   "display_name": "Python [conda env:bjorn39]",
   "language": "python",
   "name": "conda-env-bjorn39-py"
  },
  "language_info": {
   "codemirror_mode": {
    "name": "ipython",
    "version": 3
   },
   "file_extension": ".py",
   "mimetype": "text/x-python",
   "name": "python",
   "nbconvert_exporter": "python",
   "pygments_lexer": "ipython3",
   "version": "3.9.12"
  },
  "widgets": {
   "application/vnd.jupyter.widget-state+json": {
    "state": {
     "0c9417c984224070a71e71018f071377": {
      "model_module": "@jupyter-widgets/base",
      "model_module_version": "1.2.0",
      "model_name": "LayoutModel",
      "state": {
       "_model_module": "@jupyter-widgets/base",
       "_model_module_version": "1.2.0",
       "_model_name": "LayoutModel",
       "_view_count": null,
       "_view_module": "@jupyter-widgets/base",
       "_view_module_version": "1.2.0",
       "_view_name": "LayoutView",
       "align_content": null,
       "align_items": null,
       "align_self": null,
       "border": null,
       "bottom": null,
       "display": null,
       "flex": null,
       "flex_flow": null,
       "grid_area": null,
       "grid_auto_columns": null,
       "grid_auto_flow": null,
       "grid_auto_rows": null,
       "grid_column": null,
       "grid_gap": null,
       "grid_row": null,
       "grid_template_areas": null,
       "grid_template_columns": null,
       "grid_template_rows": null,
       "height": null,
       "justify_content": null,
       "justify_items": null,
       "left": null,
       "margin": null,
       "max_height": null,
       "max_width": null,
       "min_height": null,
       "min_width": null,
       "object_fit": null,
       "object_position": null,
       "order": null,
       "overflow": null,
       "overflow_x": null,
       "overflow_y": null,
       "padding": null,
       "right": null,
       "top": null,
       "visibility": null,
       "width": null
      }
     },
     "111b4bd71f3b42c49723ba5bb5bcee81": {
      "model_module": "@jupyter-widgets/base",
      "model_module_version": "1.2.0",
      "model_name": "LayoutModel",
      "state": {
       "_model_module": "@jupyter-widgets/base",
       "_model_module_version": "1.2.0",
       "_model_name": "LayoutModel",
       "_view_count": null,
       "_view_module": "@jupyter-widgets/base",
       "_view_module_version": "1.2.0",
       "_view_name": "LayoutView",
       "align_content": null,
       "align_items": null,
       "align_self": null,
       "border": null,
       "bottom": null,
       "display": null,
       "flex": null,
       "flex_flow": null,
       "grid_area": null,
       "grid_auto_columns": null,
       "grid_auto_flow": null,
       "grid_auto_rows": null,
       "grid_column": null,
       "grid_gap": null,
       "grid_row": null,
       "grid_template_areas": null,
       "grid_template_columns": null,
       "grid_template_rows": null,
       "height": null,
       "justify_content": null,
       "justify_items": null,
       "left": null,
       "margin": null,
       "max_height": null,
       "max_width": null,
       "min_height": null,
       "min_width": null,
       "object_fit": null,
       "object_position": null,
       "order": null,
       "overflow": null,
       "overflow_x": null,
       "overflow_y": null,
       "padding": null,
       "right": null,
       "top": null,
       "visibility": null,
       "width": null
      }
     },
     "1dfee7291bc0402fb1a57cd5fae29e44": {
      "model_module": "@jupyter-widgets/base",
      "model_module_version": "1.2.0",
      "model_name": "LayoutModel",
      "state": {
       "_model_module": "@jupyter-widgets/base",
       "_model_module_version": "1.2.0",
       "_model_name": "LayoutModel",
       "_view_count": null,
       "_view_module": "@jupyter-widgets/base",
       "_view_module_version": "1.2.0",
       "_view_name": "LayoutView",
       "align_content": null,
       "align_items": null,
       "align_self": null,
       "border": null,
       "bottom": null,
       "display": null,
       "flex": null,
       "flex_flow": null,
       "grid_area": null,
       "grid_auto_columns": null,
       "grid_auto_flow": null,
       "grid_auto_rows": null,
       "grid_column": null,
       "grid_gap": null,
       "grid_row": null,
       "grid_template_areas": null,
       "grid_template_columns": null,
       "grid_template_rows": null,
       "height": null,
       "justify_content": null,
       "justify_items": null,
       "left": null,
       "margin": null,
       "max_height": null,
       "max_width": null,
       "min_height": null,
       "min_width": null,
       "object_fit": null,
       "object_position": null,
       "order": null,
       "overflow": null,
       "overflow_x": null,
       "overflow_y": null,
       "padding": null,
       "right": null,
       "top": null,
       "visibility": null,
       "width": null
      }
     },
     "2357a5637b634d1f86a55175b8d65b0c": {
      "model_module": "@jupyter-widgets/controls",
      "model_module_version": "1.5.0",
      "model_name": "HBoxModel",
      "state": {
       "_dom_classes": [],
       "_model_module": "@jupyter-widgets/controls",
       "_model_module_version": "1.5.0",
       "_model_name": "HBoxModel",
       "_view_count": null,
       "_view_module": "@jupyter-widgets/controls",
       "_view_module_version": "1.5.0",
       "_view_name": "HBoxView",
       "box_style": "",
       "children": [
        "IPY_MODEL_2bc2e2974eed4abbbe10e7502ac141de",
        "IPY_MODEL_6d15fd3f96d84526b51160872293e21a",
        "IPY_MODEL_8508285a0f364e6794b2b843a8d77a68"
       ],
       "layout": "IPY_MODEL_a66da69f75044c1d8b4935d1318827a6"
      }
     },
     "263b4887b8f3454e8046e3361626a9fd": {
      "model_module": "@jupyter-widgets/controls",
      "model_module_version": "1.5.0",
      "model_name": "DescriptionStyleModel",
      "state": {
       "_model_module": "@jupyter-widgets/controls",
       "_model_module_version": "1.5.0",
       "_model_name": "DescriptionStyleModel",
       "_view_count": null,
       "_view_module": "@jupyter-widgets/base",
       "_view_module_version": "1.2.0",
       "_view_name": "StyleView",
       "description_width": ""
      }
     },
     "273d602221f74c1abada28449f729444": {
      "model_module": "@jupyter-widgets/controls",
      "model_module_version": "1.5.0",
      "model_name": "HTMLModel",
      "state": {
       "_dom_classes": [],
       "_model_module": "@jupyter-widgets/controls",
       "_model_module_version": "1.5.0",
       "_model_name": "HTMLModel",
       "_view_count": null,
       "_view_module": "@jupyter-widgets/controls",
       "_view_module_version": "1.5.0",
       "_view_name": "HTMLView",
       "description": "",
       "description_tooltip": null,
       "layout": "IPY_MODEL_0c9417c984224070a71e71018f071377",
       "placeholder": "​",
       "style": "IPY_MODEL_69e0b79ec8b44d5c88a1107e91e899c1",
       "value": "2nd loop: 100%"
      }
     },
     "2bc2e2974eed4abbbe10e7502ac141de": {
      "model_module": "@jupyter-widgets/controls",
      "model_module_version": "1.5.0",
      "model_name": "HTMLModel",
      "state": {
       "_dom_classes": [],
       "_model_module": "@jupyter-widgets/controls",
       "_model_module_version": "1.5.0",
       "_model_name": "HTMLModel",
       "_view_count": null,
       "_view_module": "@jupyter-widgets/controls",
       "_view_module_version": "1.5.0",
       "_view_name": "HTMLView",
       "description": "",
       "description_tooltip": null,
       "layout": "IPY_MODEL_4261e0429d1e42deaed17b64f28c8d63",
       "placeholder": "​",
       "style": "IPY_MODEL_263b4887b8f3454e8046e3361626a9fd",
       "value": "2nd loop: 100%"
      }
     },
     "39dfdb2a2aa94460a9f1be4c0c29f20a": {
      "model_module": "@jupyter-widgets/base",
      "model_module_version": "1.2.0",
      "model_name": "LayoutModel",
      "state": {
       "_model_module": "@jupyter-widgets/base",
       "_model_module_version": "1.2.0",
       "_model_name": "LayoutModel",
       "_view_count": null,
       "_view_module": "@jupyter-widgets/base",
       "_view_module_version": "1.2.0",
       "_view_name": "LayoutView",
       "align_content": null,
       "align_items": null,
       "align_self": null,
       "border": null,
       "bottom": null,
       "display": null,
       "flex": null,
       "flex_flow": null,
       "grid_area": null,
       "grid_auto_columns": null,
       "grid_auto_flow": null,
       "grid_auto_rows": null,
       "grid_column": null,
       "grid_gap": null,
       "grid_row": null,
       "grid_template_areas": null,
       "grid_template_columns": null,
       "grid_template_rows": null,
       "height": null,
       "justify_content": null,
       "justify_items": null,
       "left": null,
       "margin": null,
       "max_height": null,
       "max_width": null,
       "min_height": null,
       "min_width": null,
       "object_fit": null,
       "object_position": null,
       "order": null,
       "overflow": null,
       "overflow_x": null,
       "overflow_y": null,
       "padding": null,
       "right": null,
       "top": null,
       "visibility": null,
       "width": null
      }
     },
     "422b114924764b0995972384eb97ace2": {
      "model_module": "@jupyter-widgets/base",
      "model_module_version": "1.2.0",
      "model_name": "LayoutModel",
      "state": {
       "_model_module": "@jupyter-widgets/base",
       "_model_module_version": "1.2.0",
       "_model_name": "LayoutModel",
       "_view_count": null,
       "_view_module": "@jupyter-widgets/base",
       "_view_module_version": "1.2.0",
       "_view_name": "LayoutView",
       "align_content": null,
       "align_items": null,
       "align_self": null,
       "border": null,
       "bottom": null,
       "display": null,
       "flex": null,
       "flex_flow": null,
       "grid_area": null,
       "grid_auto_columns": null,
       "grid_auto_flow": null,
       "grid_auto_rows": null,
       "grid_column": null,
       "grid_gap": null,
       "grid_row": null,
       "grid_template_areas": null,
       "grid_template_columns": null,
       "grid_template_rows": null,
       "height": null,
       "justify_content": null,
       "justify_items": null,
       "left": null,
       "margin": null,
       "max_height": null,
       "max_width": null,
       "min_height": null,
       "min_width": null,
       "object_fit": null,
       "object_position": null,
       "order": null,
       "overflow": null,
       "overflow_x": null,
       "overflow_y": null,
       "padding": null,
       "right": null,
       "top": null,
       "visibility": null,
       "width": null
      }
     },
     "4261e0429d1e42deaed17b64f28c8d63": {
      "model_module": "@jupyter-widgets/base",
      "model_module_version": "1.2.0",
      "model_name": "LayoutModel",
      "state": {
       "_model_module": "@jupyter-widgets/base",
       "_model_module_version": "1.2.0",
       "_model_name": "LayoutModel",
       "_view_count": null,
       "_view_module": "@jupyter-widgets/base",
       "_view_module_version": "1.2.0",
       "_view_name": "LayoutView",
       "align_content": null,
       "align_items": null,
       "align_self": null,
       "border": null,
       "bottom": null,
       "display": null,
       "flex": null,
       "flex_flow": null,
       "grid_area": null,
       "grid_auto_columns": null,
       "grid_auto_flow": null,
       "grid_auto_rows": null,
       "grid_column": null,
       "grid_gap": null,
       "grid_row": null,
       "grid_template_areas": null,
       "grid_template_columns": null,
       "grid_template_rows": null,
       "height": null,
       "justify_content": null,
       "justify_items": null,
       "left": null,
       "margin": null,
       "max_height": null,
       "max_width": null,
       "min_height": null,
       "min_width": null,
       "object_fit": null,
       "object_position": null,
       "order": null,
       "overflow": null,
       "overflow_x": null,
       "overflow_y": null,
       "padding": null,
       "right": null,
       "top": null,
       "visibility": null,
       "width": null
      }
     },
     "49fc725dbefd466e8b2d0cdc5509b2e2": {
      "model_module": "@jupyter-widgets/controls",
      "model_module_version": "1.5.0",
      "model_name": "DescriptionStyleModel",
      "state": {
       "_model_module": "@jupyter-widgets/controls",
       "_model_module_version": "1.5.0",
       "_model_name": "DescriptionStyleModel",
       "_view_count": null,
       "_view_module": "@jupyter-widgets/base",
       "_view_module_version": "1.2.0",
       "_view_name": "StyleView",
       "description_width": ""
      }
     },
     "4d247efff49e4c3590d6f8d7eeba8a7e": {
      "model_module": "@jupyter-widgets/controls",
      "model_module_version": "1.5.0",
      "model_name": "HBoxModel",
      "state": {
       "_dom_classes": [],
       "_model_module": "@jupyter-widgets/controls",
       "_model_module_version": "1.5.0",
       "_model_name": "HBoxModel",
       "_view_count": null,
       "_view_module": "@jupyter-widgets/controls",
       "_view_module_version": "1.5.0",
       "_view_name": "HBoxView",
       "box_style": "",
       "children": [
        "IPY_MODEL_a412500b77ea43ddb61c4fc346bec34a",
        "IPY_MODEL_b042b59a7bbf49549b6f6fc1765a42c6",
        "IPY_MODEL_97593121cadb4b07bf0304cd27bf3b3b"
       ],
       "layout": "IPY_MODEL_ee7d7e761b4948e6961d6d5c7e2d8391"
      }
     },
     "562618c21f9141fd977823dc02a35c40": {
      "model_module": "@jupyter-widgets/controls",
      "model_module_version": "1.5.0",
      "model_name": "ProgressStyleModel",
      "state": {
       "_model_module": "@jupyter-widgets/controls",
       "_model_module_version": "1.5.0",
       "_model_name": "ProgressStyleModel",
       "_view_count": null,
       "_view_module": "@jupyter-widgets/base",
       "_view_module_version": "1.2.0",
       "_view_name": "StyleView",
       "bar_color": null,
       "description_width": ""
      }
     },
     "56f610d562ab4cf39ebd827c8667481a": {
      "model_module": "@jupyter-widgets/controls",
      "model_module_version": "1.5.0",
      "model_name": "DescriptionStyleModel",
      "state": {
       "_model_module": "@jupyter-widgets/controls",
       "_model_module_version": "1.5.0",
       "_model_name": "DescriptionStyleModel",
       "_view_count": null,
       "_view_module": "@jupyter-widgets/base",
       "_view_module_version": "1.2.0",
       "_view_name": "StyleView",
       "description_width": ""
      }
     },
     "69e0b79ec8b44d5c88a1107e91e899c1": {
      "model_module": "@jupyter-widgets/controls",
      "model_module_version": "1.5.0",
      "model_name": "DescriptionStyleModel",
      "state": {
       "_model_module": "@jupyter-widgets/controls",
       "_model_module_version": "1.5.0",
       "_model_name": "DescriptionStyleModel",
       "_view_count": null,
       "_view_module": "@jupyter-widgets/base",
       "_view_module_version": "1.2.0",
       "_view_name": "StyleView",
       "description_width": ""
      }
     },
     "6d15fd3f96d84526b51160872293e21a": {
      "model_module": "@jupyter-widgets/controls",
      "model_module_version": "1.5.0",
      "model_name": "FloatProgressModel",
      "state": {
       "_dom_classes": [],
       "_model_module": "@jupyter-widgets/controls",
       "_model_module_version": "1.5.0",
       "_model_name": "FloatProgressModel",
       "_view_count": null,
       "_view_module": "@jupyter-widgets/controls",
       "_view_module_version": "1.5.0",
       "_view_name": "ProgressView",
       "bar_style": "success",
       "description": "",
       "description_tooltip": null,
       "layout": "IPY_MODEL_39dfdb2a2aa94460a9f1be4c0c29f20a",
       "max": 100,
       "min": 0,
       "orientation": "horizontal",
       "style": "IPY_MODEL_cb06905ffe624a6f9de41bc1fa03c641",
       "value": 100
      }
     },
     "716e07eb1a4747b8ab242aa3653a9c83": {
      "model_module": "@jupyter-widgets/base",
      "model_module_version": "1.2.0",
      "model_name": "LayoutModel",
      "state": {
       "_model_module": "@jupyter-widgets/base",
       "_model_module_version": "1.2.0",
       "_model_name": "LayoutModel",
       "_view_count": null,
       "_view_module": "@jupyter-widgets/base",
       "_view_module_version": "1.2.0",
       "_view_name": "LayoutView",
       "align_content": null,
       "align_items": null,
       "align_self": null,
       "border": null,
       "bottom": null,
       "display": null,
       "flex": null,
       "flex_flow": null,
       "grid_area": null,
       "grid_auto_columns": null,
       "grid_auto_flow": null,
       "grid_auto_rows": null,
       "grid_column": null,
       "grid_gap": null,
       "grid_row": null,
       "grid_template_areas": null,
       "grid_template_columns": null,
       "grid_template_rows": null,
       "height": null,
       "justify_content": null,
       "justify_items": null,
       "left": null,
       "margin": null,
       "max_height": null,
       "max_width": null,
       "min_height": null,
       "min_width": null,
       "object_fit": null,
       "object_position": null,
       "order": null,
       "overflow": null,
       "overflow_x": null,
       "overflow_y": null,
       "padding": null,
       "right": null,
       "top": null,
       "visibility": null,
       "width": null
      }
     },
     "781d5c99e29f4a178309a13578b2f37e": {
      "model_module": "@jupyter-widgets/controls",
      "model_module_version": "1.5.0",
      "model_name": "FloatProgressModel",
      "state": {
       "_dom_classes": [],
       "_model_module": "@jupyter-widgets/controls",
       "_model_module_version": "1.5.0",
       "_model_name": "FloatProgressModel",
       "_view_count": null,
       "_view_module": "@jupyter-widgets/controls",
       "_view_module_version": "1.5.0",
       "_view_name": "ProgressView",
       "bar_style": "success",
       "description": "",
       "description_tooltip": null,
       "layout": "IPY_MODEL_1dfee7291bc0402fb1a57cd5fae29e44",
       "max": 100,
       "min": 0,
       "orientation": "horizontal",
       "style": "IPY_MODEL_562618c21f9141fd977823dc02a35c40",
       "value": 100
      }
     },
     "7ce08f04693243529e111353f41d20f5": {
      "model_module": "@jupyter-widgets/controls",
      "model_module_version": "1.5.0",
      "model_name": "HTMLModel",
      "state": {
       "_dom_classes": [],
       "_model_module": "@jupyter-widgets/controls",
       "_model_module_version": "1.5.0",
       "_model_name": "HTMLModel",
       "_view_count": null,
       "_view_module": "@jupyter-widgets/controls",
       "_view_module_version": "1.5.0",
       "_view_name": "HTMLView",
       "description": "",
       "description_tooltip": null,
       "layout": "IPY_MODEL_b2224a5e70c246658129dc9c85d9aa29",
       "placeholder": "​",
       "style": "IPY_MODEL_56f610d562ab4cf39ebd827c8667481a",
       "value": "2nd loop: 100%"
      }
     },
     "8508285a0f364e6794b2b843a8d77a68": {
      "model_module": "@jupyter-widgets/controls",
      "model_module_version": "1.5.0",
      "model_name": "HTMLModel",
      "state": {
       "_dom_classes": [],
       "_model_module": "@jupyter-widgets/controls",
       "_model_module_version": "1.5.0",
       "_model_name": "HTMLModel",
       "_view_count": null,
       "_view_module": "@jupyter-widgets/controls",
       "_view_module_version": "1.5.0",
       "_view_name": "HTMLView",
       "description": "",
       "description_tooltip": null,
       "layout": "IPY_MODEL_f8c3fa2cc6144c2a89facf3a47d7de40",
       "placeholder": "​",
       "style": "IPY_MODEL_e8a0a28f88734774a028637f5bb4b2f7",
       "value": " 100/100 [00:01&lt;00:00, 95.26it/s]"
      }
     },
     "86f2bafb6fd2404e8222b9bfe192f0eb": {
      "model_module": "@jupyter-widgets/base",
      "model_module_version": "1.2.0",
      "model_name": "LayoutModel",
      "state": {
       "_model_module": "@jupyter-widgets/base",
       "_model_module_version": "1.2.0",
       "_model_name": "LayoutModel",
       "_view_count": null,
       "_view_module": "@jupyter-widgets/base",
       "_view_module_version": "1.2.0",
       "_view_name": "LayoutView",
       "align_content": null,
       "align_items": null,
       "align_self": null,
       "border": null,
       "bottom": null,
       "display": null,
       "flex": null,
       "flex_flow": null,
       "grid_area": null,
       "grid_auto_columns": null,
       "grid_auto_flow": null,
       "grid_auto_rows": null,
       "grid_column": null,
       "grid_gap": null,
       "grid_row": null,
       "grid_template_areas": null,
       "grid_template_columns": null,
       "grid_template_rows": null,
       "height": null,
       "justify_content": null,
       "justify_items": null,
       "left": null,
       "margin": null,
       "max_height": null,
       "max_width": null,
       "min_height": null,
       "min_width": null,
       "object_fit": null,
       "object_position": null,
       "order": null,
       "overflow": null,
       "overflow_x": null,
       "overflow_y": null,
       "padding": null,
       "right": null,
       "top": null,
       "visibility": null,
       "width": null
      }
     },
     "8ec201a237f447b4b2e8957e7b7f341c": {
      "model_module": "@jupyter-widgets/controls",
      "model_module_version": "1.5.0",
      "model_name": "ProgressStyleModel",
      "state": {
       "_model_module": "@jupyter-widgets/controls",
       "_model_module_version": "1.5.0",
       "_model_name": "ProgressStyleModel",
       "_view_count": null,
       "_view_module": "@jupyter-widgets/base",
       "_view_module_version": "1.2.0",
       "_view_name": "StyleView",
       "bar_color": null,
       "description_width": ""
      }
     },
     "97593121cadb4b07bf0304cd27bf3b3b": {
      "model_module": "@jupyter-widgets/controls",
      "model_module_version": "1.5.0",
      "model_name": "HTMLModel",
      "state": {
       "_dom_classes": [],
       "_model_module": "@jupyter-widgets/controls",
       "_model_module_version": "1.5.0",
       "_model_name": "HTMLModel",
       "_view_count": null,
       "_view_module": "@jupyter-widgets/controls",
       "_view_module_version": "1.5.0",
       "_view_name": "HTMLView",
       "description": "",
       "description_tooltip": null,
       "layout": "IPY_MODEL_bba2efa06f1940fcbafcc74a7c967e68",
       "placeholder": "​",
       "style": "IPY_MODEL_db26a99112e840de97b108399bb940ac",
       "value": " 3/3 [00:03&lt;00:00,  1.11s/it]"
      }
     },
     "991d1470cde14db7ad7c6dd03303d1bf": {
      "model_module": "@jupyter-widgets/controls",
      "model_module_version": "1.5.0",
      "model_name": "FloatProgressModel",
      "state": {
       "_dom_classes": [],
       "_model_module": "@jupyter-widgets/controls",
       "_model_module_version": "1.5.0",
       "_model_name": "FloatProgressModel",
       "_view_count": null,
       "_view_module": "@jupyter-widgets/controls",
       "_view_module_version": "1.5.0",
       "_view_name": "ProgressView",
       "bar_style": "success",
       "description": "",
       "description_tooltip": null,
       "layout": "IPY_MODEL_716e07eb1a4747b8ab242aa3653a9c83",
       "max": 100,
       "min": 0,
       "orientation": "horizontal",
       "style": "IPY_MODEL_f68f6c7d3ba64b7f9606876ad676362b",
       "value": 100
      }
     },
     "9a7640e12d044d4a80f46d9e23f0063f": {
      "model_module": "@jupyter-widgets/controls",
      "model_module_version": "1.5.0",
      "model_name": "HBoxModel",
      "state": {
       "_dom_classes": [],
       "_model_module": "@jupyter-widgets/controls",
       "_model_module_version": "1.5.0",
       "_model_name": "HBoxModel",
       "_view_count": null,
       "_view_module": "@jupyter-widgets/controls",
       "_view_module_version": "1.5.0",
       "_view_name": "HBoxView",
       "box_style": "",
       "children": [
        "IPY_MODEL_273d602221f74c1abada28449f729444",
        "IPY_MODEL_991d1470cde14db7ad7c6dd03303d1bf",
        "IPY_MODEL_a59f493f79dd4463b4431431f2108da0"
       ],
       "layout": "IPY_MODEL_9f2535acb1824bbd8848ef97250d4d38"
      }
     },
     "9f2535acb1824bbd8848ef97250d4d38": {
      "model_module": "@jupyter-widgets/base",
      "model_module_version": "1.2.0",
      "model_name": "LayoutModel",
      "state": {
       "_model_module": "@jupyter-widgets/base",
       "_model_module_version": "1.2.0",
       "_model_name": "LayoutModel",
       "_view_count": null,
       "_view_module": "@jupyter-widgets/base",
       "_view_module_version": "1.2.0",
       "_view_name": "LayoutView",
       "align_content": null,
       "align_items": null,
       "align_self": null,
       "border": null,
       "bottom": null,
       "display": null,
       "flex": null,
       "flex_flow": null,
       "grid_area": null,
       "grid_auto_columns": null,
       "grid_auto_flow": null,
       "grid_auto_rows": null,
       "grid_column": null,
       "grid_gap": null,
       "grid_row": null,
       "grid_template_areas": null,
       "grid_template_columns": null,
       "grid_template_rows": null,
       "height": null,
       "justify_content": null,
       "justify_items": null,
       "left": null,
       "margin": null,
       "max_height": null,
       "max_width": null,
       "min_height": null,
       "min_width": null,
       "object_fit": null,
       "object_position": null,
       "order": null,
       "overflow": null,
       "overflow_x": null,
       "overflow_y": null,
       "padding": null,
       "right": null,
       "top": null,
       "visibility": null,
       "width": null
      }
     },
     "a384e785d66e450ba78fa8b259bfb9ee": {
      "model_module": "@jupyter-widgets/controls",
      "model_module_version": "1.5.0",
      "model_name": "DescriptionStyleModel",
      "state": {
       "_model_module": "@jupyter-widgets/controls",
       "_model_module_version": "1.5.0",
       "_model_name": "DescriptionStyleModel",
       "_view_count": null,
       "_view_module": "@jupyter-widgets/base",
       "_view_module_version": "1.2.0",
       "_view_name": "StyleView",
       "description_width": ""
      }
     },
     "a412500b77ea43ddb61c4fc346bec34a": {
      "model_module": "@jupyter-widgets/controls",
      "model_module_version": "1.5.0",
      "model_name": "HTMLModel",
      "state": {
       "_dom_classes": [],
       "_model_module": "@jupyter-widgets/controls",
       "_model_module_version": "1.5.0",
       "_model_name": "HTMLModel",
       "_view_count": null,
       "_view_module": "@jupyter-widgets/controls",
       "_view_module_version": "1.5.0",
       "_view_name": "HTMLView",
       "description": "",
       "description_tooltip": null,
       "layout": "IPY_MODEL_111b4bd71f3b42c49723ba5bb5bcee81",
       "placeholder": "​",
       "style": "IPY_MODEL_a384e785d66e450ba78fa8b259bfb9ee",
       "value": "1st loop: 100%"
      }
     },
     "a59f493f79dd4463b4431431f2108da0": {
      "model_module": "@jupyter-widgets/controls",
      "model_module_version": "1.5.0",
      "model_name": "HTMLModel",
      "state": {
       "_dom_classes": [],
       "_model_module": "@jupyter-widgets/controls",
       "_model_module_version": "1.5.0",
       "_model_name": "HTMLModel",
       "_view_count": null,
       "_view_module": "@jupyter-widgets/controls",
       "_view_module_version": "1.5.0",
       "_view_name": "HTMLView",
       "description": "",
       "description_tooltip": null,
       "layout": "IPY_MODEL_422b114924764b0995972384eb97ace2",
       "placeholder": "​",
       "style": "IPY_MODEL_f5da397de69f4eec97d5f09432ab538c",
       "value": " 100/100 [00:01&lt;00:00, 96.43it/s]"
      }
     },
     "a66da69f75044c1d8b4935d1318827a6": {
      "model_module": "@jupyter-widgets/base",
      "model_module_version": "1.2.0",
      "model_name": "LayoutModel",
      "state": {
       "_model_module": "@jupyter-widgets/base",
       "_model_module_version": "1.2.0",
       "_model_name": "LayoutModel",
       "_view_count": null,
       "_view_module": "@jupyter-widgets/base",
       "_view_module_version": "1.2.0",
       "_view_name": "LayoutView",
       "align_content": null,
       "align_items": null,
       "align_self": null,
       "border": null,
       "bottom": null,
       "display": null,
       "flex": null,
       "flex_flow": null,
       "grid_area": null,
       "grid_auto_columns": null,
       "grid_auto_flow": null,
       "grid_auto_rows": null,
       "grid_column": null,
       "grid_gap": null,
       "grid_row": null,
       "grid_template_areas": null,
       "grid_template_columns": null,
       "grid_template_rows": null,
       "height": null,
       "justify_content": null,
       "justify_items": null,
       "left": null,
       "margin": null,
       "max_height": null,
       "max_width": null,
       "min_height": null,
       "min_width": null,
       "object_fit": null,
       "object_position": null,
       "order": null,
       "overflow": null,
       "overflow_x": null,
       "overflow_y": null,
       "padding": null,
       "right": null,
       "top": null,
       "visibility": null,
       "width": null
      }
     },
     "aa88dc8dfbe148c686b0b8395e7e75f6": {
      "model_module": "@jupyter-widgets/base",
      "model_module_version": "1.2.0",
      "model_name": "LayoutModel",
      "state": {
       "_model_module": "@jupyter-widgets/base",
       "_model_module_version": "1.2.0",
       "_model_name": "LayoutModel",
       "_view_count": null,
       "_view_module": "@jupyter-widgets/base",
       "_view_module_version": "1.2.0",
       "_view_name": "LayoutView",
       "align_content": null,
       "align_items": null,
       "align_self": null,
       "border": null,
       "bottom": null,
       "display": null,
       "flex": null,
       "flex_flow": null,
       "grid_area": null,
       "grid_auto_columns": null,
       "grid_auto_flow": null,
       "grid_auto_rows": null,
       "grid_column": null,
       "grid_gap": null,
       "grid_row": null,
       "grid_template_areas": null,
       "grid_template_columns": null,
       "grid_template_rows": null,
       "height": null,
       "justify_content": null,
       "justify_items": null,
       "left": null,
       "margin": null,
       "max_height": null,
       "max_width": null,
       "min_height": null,
       "min_width": null,
       "object_fit": null,
       "object_position": null,
       "order": null,
       "overflow": null,
       "overflow_x": null,
       "overflow_y": null,
       "padding": null,
       "right": null,
       "top": null,
       "visibility": null,
       "width": null
      }
     },
     "b042b59a7bbf49549b6f6fc1765a42c6": {
      "model_module": "@jupyter-widgets/controls",
      "model_module_version": "1.5.0",
      "model_name": "FloatProgressModel",
      "state": {
       "_dom_classes": [],
       "_model_module": "@jupyter-widgets/controls",
       "_model_module_version": "1.5.0",
       "_model_name": "FloatProgressModel",
       "_view_count": null,
       "_view_module": "@jupyter-widgets/controls",
       "_view_module_version": "1.5.0",
       "_view_name": "ProgressView",
       "bar_style": "success",
       "description": "",
       "description_tooltip": null,
       "layout": "IPY_MODEL_aa88dc8dfbe148c686b0b8395e7e75f6",
       "max": 3,
       "min": 0,
       "orientation": "horizontal",
       "style": "IPY_MODEL_8ec201a237f447b4b2e8957e7b7f341c",
       "value": 3
      }
     },
     "b2224a5e70c246658129dc9c85d9aa29": {
      "model_module": "@jupyter-widgets/base",
      "model_module_version": "1.2.0",
      "model_name": "LayoutModel",
      "state": {
       "_model_module": "@jupyter-widgets/base",
       "_model_module_version": "1.2.0",
       "_model_name": "LayoutModel",
       "_view_count": null,
       "_view_module": "@jupyter-widgets/base",
       "_view_module_version": "1.2.0",
       "_view_name": "LayoutView",
       "align_content": null,
       "align_items": null,
       "align_self": null,
       "border": null,
       "bottom": null,
       "display": null,
       "flex": null,
       "flex_flow": null,
       "grid_area": null,
       "grid_auto_columns": null,
       "grid_auto_flow": null,
       "grid_auto_rows": null,
       "grid_column": null,
       "grid_gap": null,
       "grid_row": null,
       "grid_template_areas": null,
       "grid_template_columns": null,
       "grid_template_rows": null,
       "height": null,
       "justify_content": null,
       "justify_items": null,
       "left": null,
       "margin": null,
       "max_height": null,
       "max_width": null,
       "min_height": null,
       "min_width": null,
       "object_fit": null,
       "object_position": null,
       "order": null,
       "overflow": null,
       "overflow_x": null,
       "overflow_y": null,
       "padding": null,
       "right": null,
       "top": null,
       "visibility": null,
       "width": null
      }
     },
     "b77dfcfde7c34db2801826d8b792002a": {
      "model_module": "@jupyter-widgets/base",
      "model_module_version": "1.2.0",
      "model_name": "LayoutModel",
      "state": {
       "_model_module": "@jupyter-widgets/base",
       "_model_module_version": "1.2.0",
       "_model_name": "LayoutModel",
       "_view_count": null,
       "_view_module": "@jupyter-widgets/base",
       "_view_module_version": "1.2.0",
       "_view_name": "LayoutView",
       "align_content": null,
       "align_items": null,
       "align_self": null,
       "border": null,
       "bottom": null,
       "display": null,
       "flex": null,
       "flex_flow": null,
       "grid_area": null,
       "grid_auto_columns": null,
       "grid_auto_flow": null,
       "grid_auto_rows": null,
       "grid_column": null,
       "grid_gap": null,
       "grid_row": null,
       "grid_template_areas": null,
       "grid_template_columns": null,
       "grid_template_rows": null,
       "height": null,
       "justify_content": null,
       "justify_items": null,
       "left": null,
       "margin": null,
       "max_height": null,
       "max_width": null,
       "min_height": null,
       "min_width": null,
       "object_fit": null,
       "object_position": null,
       "order": null,
       "overflow": null,
       "overflow_x": null,
       "overflow_y": null,
       "padding": null,
       "right": null,
       "top": null,
       "visibility": null,
       "width": null
      }
     },
     "ba2a4289b9384de3961f800beb0d4613": {
      "model_module": "@jupyter-widgets/controls",
      "model_module_version": "1.5.0",
      "model_name": "HBoxModel",
      "state": {
       "_dom_classes": [],
       "_model_module": "@jupyter-widgets/controls",
       "_model_module_version": "1.5.0",
       "_model_name": "HBoxModel",
       "_view_count": null,
       "_view_module": "@jupyter-widgets/controls",
       "_view_module_version": "1.5.0",
       "_view_name": "HBoxView",
       "box_style": "",
       "children": [
        "IPY_MODEL_7ce08f04693243529e111353f41d20f5",
        "IPY_MODEL_781d5c99e29f4a178309a13578b2f37e",
        "IPY_MODEL_f747ca2ea421417b8b38e5d58a9b4434"
       ],
       "layout": "IPY_MODEL_86f2bafb6fd2404e8222b9bfe192f0eb"
      }
     },
     "bba2efa06f1940fcbafcc74a7c967e68": {
      "model_module": "@jupyter-widgets/base",
      "model_module_version": "1.2.0",
      "model_name": "LayoutModel",
      "state": {
       "_model_module": "@jupyter-widgets/base",
       "_model_module_version": "1.2.0",
       "_model_name": "LayoutModel",
       "_view_count": null,
       "_view_module": "@jupyter-widgets/base",
       "_view_module_version": "1.2.0",
       "_view_name": "LayoutView",
       "align_content": null,
       "align_items": null,
       "align_self": null,
       "border": null,
       "bottom": null,
       "display": null,
       "flex": null,
       "flex_flow": null,
       "grid_area": null,
       "grid_auto_columns": null,
       "grid_auto_flow": null,
       "grid_auto_rows": null,
       "grid_column": null,
       "grid_gap": null,
       "grid_row": null,
       "grid_template_areas": null,
       "grid_template_columns": null,
       "grid_template_rows": null,
       "height": null,
       "justify_content": null,
       "justify_items": null,
       "left": null,
       "margin": null,
       "max_height": null,
       "max_width": null,
       "min_height": null,
       "min_width": null,
       "object_fit": null,
       "object_position": null,
       "order": null,
       "overflow": null,
       "overflow_x": null,
       "overflow_y": null,
       "padding": null,
       "right": null,
       "top": null,
       "visibility": null,
       "width": null
      }
     },
     "cb06905ffe624a6f9de41bc1fa03c641": {
      "model_module": "@jupyter-widgets/controls",
      "model_module_version": "1.5.0",
      "model_name": "ProgressStyleModel",
      "state": {
       "_model_module": "@jupyter-widgets/controls",
       "_model_module_version": "1.5.0",
       "_model_name": "ProgressStyleModel",
       "_view_count": null,
       "_view_module": "@jupyter-widgets/base",
       "_view_module_version": "1.2.0",
       "_view_name": "StyleView",
       "bar_color": null,
       "description_width": ""
      }
     },
     "db26a99112e840de97b108399bb940ac": {
      "model_module": "@jupyter-widgets/controls",
      "model_module_version": "1.5.0",
      "model_name": "DescriptionStyleModel",
      "state": {
       "_model_module": "@jupyter-widgets/controls",
       "_model_module_version": "1.5.0",
       "_model_name": "DescriptionStyleModel",
       "_view_count": null,
       "_view_module": "@jupyter-widgets/base",
       "_view_module_version": "1.2.0",
       "_view_name": "StyleView",
       "description_width": ""
      }
     },
     "e8a0a28f88734774a028637f5bb4b2f7": {
      "model_module": "@jupyter-widgets/controls",
      "model_module_version": "1.5.0",
      "model_name": "DescriptionStyleModel",
      "state": {
       "_model_module": "@jupyter-widgets/controls",
       "_model_module_version": "1.5.0",
       "_model_name": "DescriptionStyleModel",
       "_view_count": null,
       "_view_module": "@jupyter-widgets/base",
       "_view_module_version": "1.2.0",
       "_view_name": "StyleView",
       "description_width": ""
      }
     },
     "ee7d7e761b4948e6961d6d5c7e2d8391": {
      "model_module": "@jupyter-widgets/base",
      "model_module_version": "1.2.0",
      "model_name": "LayoutModel",
      "state": {
       "_model_module": "@jupyter-widgets/base",
       "_model_module_version": "1.2.0",
       "_model_name": "LayoutModel",
       "_view_count": null,
       "_view_module": "@jupyter-widgets/base",
       "_view_module_version": "1.2.0",
       "_view_name": "LayoutView",
       "align_content": null,
       "align_items": null,
       "align_self": null,
       "border": null,
       "bottom": null,
       "display": null,
       "flex": null,
       "flex_flow": null,
       "grid_area": null,
       "grid_auto_columns": null,
       "grid_auto_flow": null,
       "grid_auto_rows": null,
       "grid_column": null,
       "grid_gap": null,
       "grid_row": null,
       "grid_template_areas": null,
       "grid_template_columns": null,
       "grid_template_rows": null,
       "height": null,
       "justify_content": null,
       "justify_items": null,
       "left": null,
       "margin": null,
       "max_height": null,
       "max_width": null,
       "min_height": null,
       "min_width": null,
       "object_fit": null,
       "object_position": null,
       "order": null,
       "overflow": null,
       "overflow_x": null,
       "overflow_y": null,
       "padding": null,
       "right": null,
       "top": null,
       "visibility": null,
       "width": null
      }
     },
     "f5da397de69f4eec97d5f09432ab538c": {
      "model_module": "@jupyter-widgets/controls",
      "model_module_version": "1.5.0",
      "model_name": "DescriptionStyleModel",
      "state": {
       "_model_module": "@jupyter-widgets/controls",
       "_model_module_version": "1.5.0",
       "_model_name": "DescriptionStyleModel",
       "_view_count": null,
       "_view_module": "@jupyter-widgets/base",
       "_view_module_version": "1.2.0",
       "_view_name": "StyleView",
       "description_width": ""
      }
     },
     "f68f6c7d3ba64b7f9606876ad676362b": {
      "model_module": "@jupyter-widgets/controls",
      "model_module_version": "1.5.0",
      "model_name": "ProgressStyleModel",
      "state": {
       "_model_module": "@jupyter-widgets/controls",
       "_model_module_version": "1.5.0",
       "_model_name": "ProgressStyleModel",
       "_view_count": null,
       "_view_module": "@jupyter-widgets/base",
       "_view_module_version": "1.2.0",
       "_view_name": "StyleView",
       "bar_color": null,
       "description_width": ""
      }
     },
     "f747ca2ea421417b8b38e5d58a9b4434": {
      "model_module": "@jupyter-widgets/controls",
      "model_module_version": "1.5.0",
      "model_name": "HTMLModel",
      "state": {
       "_dom_classes": [],
       "_model_module": "@jupyter-widgets/controls",
       "_model_module_version": "1.5.0",
       "_model_name": "HTMLModel",
       "_view_count": null,
       "_view_module": "@jupyter-widgets/controls",
       "_view_module_version": "1.5.0",
       "_view_name": "HTMLView",
       "description": "",
       "description_tooltip": null,
       "layout": "IPY_MODEL_b77dfcfde7c34db2801826d8b792002a",
       "placeholder": "​",
       "style": "IPY_MODEL_49fc725dbefd466e8b2d0cdc5509b2e2",
       "value": " 100/100 [00:01&lt;00:00, 95.44it/s]"
      }
     },
     "f8c3fa2cc6144c2a89facf3a47d7de40": {
      "model_module": "@jupyter-widgets/base",
      "model_module_version": "1.2.0",
      "model_name": "LayoutModel",
      "state": {
       "_model_module": "@jupyter-widgets/base",
       "_model_module_version": "1.2.0",
       "_model_name": "LayoutModel",
       "_view_count": null,
       "_view_module": "@jupyter-widgets/base",
       "_view_module_version": "1.2.0",
       "_view_name": "LayoutView",
       "align_content": null,
       "align_items": null,
       "align_self": null,
       "border": null,
       "bottom": null,
       "display": null,
       "flex": null,
       "flex_flow": null,
       "grid_area": null,
       "grid_auto_columns": null,
       "grid_auto_flow": null,
       "grid_auto_rows": null,
       "grid_column": null,
       "grid_gap": null,
       "grid_row": null,
       "grid_template_areas": null,
       "grid_template_columns": null,
       "grid_template_rows": null,
       "height": null,
       "justify_content": null,
       "justify_items": null,
       "left": null,
       "margin": null,
       "max_height": null,
       "max_width": null,
       "min_height": null,
       "min_width": null,
       "object_fit": null,
       "object_position": null,
       "order": null,
       "overflow": null,
       "overflow_x": null,
       "overflow_y": null,
       "padding": null,
       "right": null,
       "top": null,
       "visibility": null,
       "width": null
      }
     }
    },
    "version_major": 2,
    "version_minor": 0
   }
  }
 },
 "nbformat": 4,
 "nbformat_minor": 4
}
